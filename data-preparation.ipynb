{
 "cells": [
  {
   "cell_type": "markdown",
   "metadata": {},
   "source": [
    "# Data Preparation Toward Analysing  Crime and Tweet sentiments "
   ]
  },
  {
   "cell_type": "markdown",
   "metadata": {},
   "source": [
    "Check the Medium article for more details.\n"
   ]
  },
  {
   "cell_type": "markdown",
   "metadata": {},
   "source": [
    " ## Police Data Preparation\n",
    " "
   ]
  },
  {
   "cell_type": "code",
   "execution_count": 60,
   "metadata": {},
   "outputs": [
    {
     "name": "stdout",
     "output_type": "stream",
     "text": [
      "1.0.3\n"
     ]
    }
   ],
   "source": [
    "import pandas as pd\n",
    "print(pd.__version__)\n",
    " "
   ]
  },
  {
   "cell_type": "code",
   "execution_count": 61,
   "metadata": {},
   "outputs": [],
   "source": [
    "police_data = pd.read_csv('../data/police_data.csv')\n",
    " "
   ]
  },
  {
   "cell_type": "code",
   "execution_count": 62,
   "metadata": {},
   "outputs": [
    {
     "data": {
      "text/html": [
       "<div>\n",
       "<style scoped>\n",
       "    .dataframe tbody tr th:only-of-type {\n",
       "        vertical-align: middle;\n",
       "    }\n",
       "\n",
       "    .dataframe tbody tr th {\n",
       "        vertical-align: top;\n",
       "    }\n",
       "\n",
       "    .dataframe thead th {\n",
       "        text-align: right;\n",
       "    }\n",
       "</style>\n",
       "<table border=\"1\" class=\"dataframe\">\n",
       "  <thead>\n",
       "    <tr style=\"text-align: right;\">\n",
       "      <th></th>\n",
       "      <th>Table 1</th>\n",
       "      <th>ANZSOC Division</th>\n",
       "      <th>Year Month</th>\n",
       "      <th>Month Year</th>\n",
       "      <th>ANZSOC Group</th>\n",
       "      <th>ANZSOC Subdivision</th>\n",
       "      <th>Area Unit</th>\n",
       "      <th>Location Type</th>\n",
       "      <th>Locn Type Division</th>\n",
       "      <th>Meshblock</th>\n",
       "      <th>Occurrence Day Of Week</th>\n",
       "      <th>Occurrence Hour Of Day</th>\n",
       "      <th>Territorial Authority</th>\n",
       "      <th>Weapon</th>\n",
       "      <th>Year Month (copy 2)</th>\n",
       "      <th>Number of Records</th>\n",
       "      <th>Victimisations</th>\n",
       "    </tr>\n",
       "  </thead>\n",
       "  <tbody>\n",
       "    <tr>\n",
       "      <th>0</th>\n",
       "      <td>1 Victimisation Time and Place</td>\n",
       "      <td>Theft and Related Offences</td>\n",
       "      <td>July 2014</td>\n",
       "      <td>July 2014</td>\n",
       "      <td>Theft From Retail Premises</td>\n",
       "      <td>Theft (Except Motor Vehicles)</td>\n",
       "      <td>Bethlehem.</td>\n",
       "      <td>.</td>\n",
       "      <td>Other Location</td>\n",
       "      <td>1190602</td>\n",
       "      <td>Wednesday</td>\n",
       "      <td>22.0</td>\n",
       "      <td>Tauranga City.</td>\n",
       "      <td>Not Applicable</td>\n",
       "      <td>July 2014</td>\n",
       "      <td>1</td>\n",
       "      <td>1</td>\n",
       "    </tr>\n",
       "    <tr>\n",
       "      <th>1</th>\n",
       "      <td>1 Victimisation Time and Place</td>\n",
       "      <td>Theft and Related Offences</td>\n",
       "      <td>July 2014</td>\n",
       "      <td>July 2014</td>\n",
       "      <td>Theft From Retail Premises</td>\n",
       "      <td>Theft (Except Motor Vehicles)</td>\n",
       "      <td>Methven.</td>\n",
       "      <td>.</td>\n",
       "      <td>Other Location</td>\n",
       "      <td>2752700</td>\n",
       "      <td>Wednesday</td>\n",
       "      <td>99.0</td>\n",
       "      <td>Ashburton District.</td>\n",
       "      <td>Not Applicable</td>\n",
       "      <td>July 2014</td>\n",
       "      <td>1</td>\n",
       "      <td>1</td>\n",
       "    </tr>\n",
       "    <tr>\n",
       "      <th>2</th>\n",
       "      <td>1 Victimisation Time and Place</td>\n",
       "      <td>Theft and Related Offences</td>\n",
       "      <td>July 2014</td>\n",
       "      <td>July 2014</td>\n",
       "      <td>Theft From Retail Premises</td>\n",
       "      <td>Theft (Except Motor Vehicles)</td>\n",
       "      <td>Wesley.</td>\n",
       "      <td>.</td>\n",
       "      <td>Other Location</td>\n",
       "      <td>579200</td>\n",
       "      <td>Wednesday</td>\n",
       "      <td>99.0</td>\n",
       "      <td>Auckland.</td>\n",
       "      <td>Not Applicable</td>\n",
       "      <td>July 2014</td>\n",
       "      <td>1</td>\n",
       "      <td>1</td>\n",
       "    </tr>\n",
       "    <tr>\n",
       "      <th>3</th>\n",
       "      <td>1 Victimisation Time and Place</td>\n",
       "      <td>Theft and Related Offences</td>\n",
       "      <td>July 2014</td>\n",
       "      <td>July 2014</td>\n",
       "      <td>Theft From Retail Premises</td>\n",
       "      <td>Theft (Except Motor Vehicles)</td>\n",
       "      <td>Riccarton.</td>\n",
       "      <td>.</td>\n",
       "      <td>Other Location</td>\n",
       "      <td>2472800</td>\n",
       "      <td>Wednesday</td>\n",
       "      <td>99.0</td>\n",
       "      <td>Christchurch City.</td>\n",
       "      <td>Not Applicable</td>\n",
       "      <td>July 2014</td>\n",
       "      <td>1</td>\n",
       "      <td>1</td>\n",
       "    </tr>\n",
       "    <tr>\n",
       "      <th>4</th>\n",
       "      <td>1 Victimisation Time and Place</td>\n",
       "      <td>Theft and Related Offences</td>\n",
       "      <td>July 2014</td>\n",
       "      <td>July 2014</td>\n",
       "      <td>Theft From Retail Premises</td>\n",
       "      <td>Theft (Except Motor Vehicles)</td>\n",
       "      <td>Beerescourt.</td>\n",
       "      <td>.</td>\n",
       "      <td>Other Location</td>\n",
       "      <td>900100</td>\n",
       "      <td>Wednesday</td>\n",
       "      <td>99.0</td>\n",
       "      <td>Hamilton City.</td>\n",
       "      <td>Not Applicable</td>\n",
       "      <td>July 2014</td>\n",
       "      <td>1</td>\n",
       "      <td>1</td>\n",
       "    </tr>\n",
       "  </tbody>\n",
       "</table>\n",
       "</div>"
      ],
      "text/plain": [
       "                          Table 1             ANZSOC Division Year Month  \\\n",
       "0  1 Victimisation Time and Place  Theft and Related Offences  July 2014   \n",
       "1  1 Victimisation Time and Place  Theft and Related Offences  July 2014   \n",
       "2  1 Victimisation Time and Place  Theft and Related Offences  July 2014   \n",
       "3  1 Victimisation Time and Place  Theft and Related Offences  July 2014   \n",
       "4  1 Victimisation Time and Place  Theft and Related Offences  July 2014   \n",
       "\n",
       "   Month Year                ANZSOC Group             ANZSOC Subdivision  \\\n",
       "0   July 2014  Theft From Retail Premises  Theft (Except Motor Vehicles)   \n",
       "1   July 2014  Theft From Retail Premises  Theft (Except Motor Vehicles)   \n",
       "2   July 2014  Theft From Retail Premises  Theft (Except Motor Vehicles)   \n",
       "3   July 2014  Theft From Retail Premises  Theft (Except Motor Vehicles)   \n",
       "4   July 2014  Theft From Retail Premises  Theft (Except Motor Vehicles)   \n",
       "\n",
       "      Area Unit Location Type Locn Type Division  Meshblock  \\\n",
       "0    Bethlehem.             .     Other Location    1190602   \n",
       "1      Methven.             .     Other Location    2752700   \n",
       "2       Wesley.             .     Other Location     579200   \n",
       "3    Riccarton.             .     Other Location    2472800   \n",
       "4  Beerescourt.             .     Other Location     900100   \n",
       "\n",
       "  Occurrence Day Of Week  Occurrence Hour Of Day Territorial Authority  \\\n",
       "0              Wednesday                    22.0        Tauranga City.   \n",
       "1              Wednesday                    99.0   Ashburton District.   \n",
       "2              Wednesday                    99.0             Auckland.   \n",
       "3              Wednesday                    99.0    Christchurch City.   \n",
       "4              Wednesday                    99.0        Hamilton City.   \n",
       "\n",
       "           Weapon Year Month (copy 2)  Number of Records  Victimisations  \n",
       "0  Not Applicable           July 2014                  1               1  \n",
       "1  Not Applicable           July 2014                  1               1  \n",
       "2  Not Applicable           July 2014                  1               1  \n",
       "3  Not Applicable           July 2014                  1               1  \n",
       "4  Not Applicable           July 2014                  1               1  "
      ]
     },
     "execution_count": 62,
     "metadata": {},
     "output_type": "execute_result"
    }
   ],
   "source": [
    "police_data.head()"
   ]
  },
  {
   "cell_type": "code",
   "execution_count": 63,
   "metadata": {},
   "outputs": [
    {
     "data": {
      "text/plain": [
       "['Tauranga City.',\n",
       " 'Ashburton District.',\n",
       " 'Auckland.',\n",
       " 'Christchurch City.',\n",
       " 'Hamilton City.',\n",
       " 'New Plymouth District.',\n",
       " 'Palmerston North City.',\n",
       " 'Upper Hutt City.',\n",
       " 'Wanganui District.',\n",
       " 'Horowhenua District.',\n",
       " 'Lower Hutt City.',\n",
       " 'Whangarei District.',\n",
       " 'Porirua City.',\n",
       " 'Kapiti Coast District.',\n",
       " 'Whakatane District.',\n",
       " 'Queenstown-Lakes District.',\n",
       " 'Gisborne District.',\n",
       " 'Matamata-Piako District.',\n",
       " 'Waitaki District.',\n",
       " 'Dunedin City.',\n",
       " 'Timaru District.',\n",
       " 'Napier City.',\n",
       " 'Tasman District.',\n",
       " 'Far North District.',\n",
       " 'Hastings District.',\n",
       " 'Thames-Coromandel District.',\n",
       " 'Nelson City.',\n",
       " 'Stratford District.',\n",
       " 'Wellington City.',\n",
       " 'Rotorua District.',\n",
       " 'Waitomo District.',\n",
       " 'South Waikato District.',\n",
       " 'Western Bay of Plenty District.',\n",
       " 'Ruapehu District.',\n",
       " 'Masterton District.',\n",
       " 'Taupo District.',\n",
       " 'Waikato District.',\n",
       " 'Mackenzie District.',\n",
       " 'Invercargill City.',\n",
       " 'Hauraki District.',\n",
       " 'Hurunui District.',\n",
       " 'Kaipara District.',\n",
       " 'Manawatu District.',\n",
       " 'Central Otago District.',\n",
       " 'Clutha District.',\n",
       " 'Gore District.',\n",
       " 'Waimakariri District.',\n",
       " 'Wairoa District.',\n",
       " 'Kawerau District.',\n",
       " 'South Taranaki District.',\n",
       " 'South Wairarapa District.',\n",
       " 'Waipa District.',\n",
       " 'Buller District.',\n",
       " 'Tararua District.',\n",
       " 'Westland District.',\n",
       " 'Grey District.',\n",
       " 'Southland District.',\n",
       " 'Marlborough District.',\n",
       " 'Opotiki District.',\n",
       " 'Rangitikei District.',\n",
       " 'Selwyn District.',\n",
       " 'Otorohanga District.',\n",
       " \"Central Hawke's Bay District.\",\n",
       " 'Waimate District.',\n",
       " 'Carterton District.',\n",
       " 'Kaikoura District.']"
      ]
     },
     "execution_count": 63,
     "metadata": {},
     "output_type": "execute_result"
    }
   ],
   "source": [
    "#unique locations\n",
    "police_data['Territorial Authority'].unique().tolist() \n",
    " \n",
    " \n",
    " "
   ]
  },
  {
   "cell_type": "code",
   "execution_count": 64,
   "metadata": {},
   "outputs": [
    {
     "name": "stdout",
     "output_type": "stream",
     "text": [
      "Total months since the data is available: 69\n",
      "Unique month-year in data: 69\n",
      "Total number of unique regions in data: 66\n"
     ]
    }
   ],
   "source": [
    "#Validating the data\n",
    "print(\"Total months since the data is available:\",(6+3+12*5) )\n",
    "print(\"Unique month-year in data:\",len(police_data['Year Month'].unique()))\n",
    "print(\"Total number of unique regions in data:\", len(police_data['Territorial Authority'].unique()) )"
   ]
  },
  {
   "cell_type": "code",
   "execution_count": null,
   "metadata": {},
   "outputs": [],
   "source": [
    "\n"
   ]
  },
  {
   "cell_type": "markdown",
   "metadata": {},
   "source": [
    "### Determining the top 20 districts with highest victimizations (crime)"
   ]
  },
  {
   "cell_type": "code",
   "execution_count": 76,
   "metadata": {},
   "outputs": [
    {
     "data": {
      "text/plain": [
       "2                  Auckland.\n",
       "3         Christchurch City.\n",
       "4             Hamilton City.\n",
       "28          Wellington City.\n",
       "0             Tauranga City.\n",
       "6     Palmerston North City.\n",
       "29         Rotorua District.\n",
       "10          Lower Hutt City.\n",
       "24        Hastings District.\n",
       "11       Whangarei District.\n",
       "21              Napier City.\n",
       "23       Far North District.\n",
       "19             Dunedin City.\n",
       "36         Waikato District.\n",
       "16        Gisborne District.\n",
       "5     New Plymouth District.\n",
       "12             Porirua City.\n",
       "35           Taupo District.\n",
       "8         Wanganui District.\n",
       "26              Nelson City.\n",
       "Name: Location, dtype: object"
      ]
     },
     "execution_count": 76,
     "metadata": {},
     "output_type": "execute_result"
    }
   ],
   "source": [
    "#Determining the total victimizations grouped by year-month and location (districts)\n",
    "prepared_police_data = police_data.groupby(['Year Month','Territorial Authority'],as_index=False)\n",
    "\n",
    "prepared_police_data = prepared_police_data['Victimisations'].sum()\n",
    " \n",
    "\n",
    "locations = police_data['Territorial Authority'].unique()\n",
    "crime_count = []\n",
    "for r in locations:\n",
    "    crime_count.append(prepared_police_data[prepared_police_data['Territorial Authority'].isin([r])]['Victimisations'].sum())\n",
    "\n",
    "region_crime_count =  pd.DataFrame(list(zip(locations,crime_count)), columns = ['Location','crime_count']).sort_values('crime_count',ascending=False)\n",
    "\n",
    "location_top20 = region_crime_count['Location'].head(n=20)\n",
    "\n",
    "\n",
    "location_top20"
   ]
  },
  {
   "cell_type": "code",
   "execution_count": 70,
   "metadata": {},
   "outputs": [
    {
     "data": {
      "text/html": [
       "<div>\n",
       "<style scoped>\n",
       "    .dataframe tbody tr th:only-of-type {\n",
       "        vertical-align: middle;\n",
       "    }\n",
       "\n",
       "    .dataframe tbody tr th {\n",
       "        vertical-align: top;\n",
       "    }\n",
       "\n",
       "    .dataframe thead th {\n",
       "        text-align: right;\n",
       "    }\n",
       "</style>\n",
       "<table border=\"1\" class=\"dataframe\">\n",
       "  <thead>\n",
       "    <tr style=\"text-align: right;\">\n",
       "      <th></th>\n",
       "      <th>Location</th>\n",
       "      <th>crime_count</th>\n",
       "    </tr>\n",
       "  </thead>\n",
       "  <tbody>\n",
       "    <tr>\n",
       "      <th>2</th>\n",
       "      <td>Auckland.</td>\n",
       "      <td>452885</td>\n",
       "    </tr>\n",
       "    <tr>\n",
       "      <th>3</th>\n",
       "      <td>Christchurch City.</td>\n",
       "      <td>124713</td>\n",
       "    </tr>\n",
       "    <tr>\n",
       "      <th>4</th>\n",
       "      <td>Hamilton City.</td>\n",
       "      <td>62543</td>\n",
       "    </tr>\n",
       "    <tr>\n",
       "      <th>28</th>\n",
       "      <td>Wellington City.</td>\n",
       "      <td>49231</td>\n",
       "    </tr>\n",
       "    <tr>\n",
       "      <th>0</th>\n",
       "      <td>Tauranga City.</td>\n",
       "      <td>36070</td>\n",
       "    </tr>\n",
       "  </tbody>\n",
       "</table>\n",
       "</div>"
      ],
      "text/plain": [
       "              Location  crime_count\n",
       "2            Auckland.       452885\n",
       "3   Christchurch City.       124713\n",
       "4       Hamilton City.        62543\n",
       "28    Wellington City.        49231\n",
       "0       Tauranga City.        36070"
      ]
     },
     "execution_count": 70,
     "metadata": {},
     "output_type": "execute_result"
    }
   ],
   "source": [
    "region_crime_count.head()"
   ]
  },
  {
   "cell_type": "markdown",
   "metadata": {},
   "source": [
    "### Extracting police data for the 20 locations identified"
   ]
  },
  {
   "cell_type": "code",
   "execution_count": 71,
   "metadata": {},
   "outputs": [],
   "source": [
    "\n",
    "prepared_police_data_20=prepared_police_data[prepared_police_data['Territorial Authority'].isin(location_top20)]"
   ]
  },
  {
   "cell_type": "markdown",
   "metadata": {},
   "source": [
    "### Cleaning the Location names to align with those in the vector file."
   ]
  },
  {
   "cell_type": "code",
   "execution_count": 77,
   "metadata": {},
   "outputs": [
    {
     "name": "stdout",
     "output_type": "stream",
     "text": [
      "0                   Ashburton\n",
      "1                    Auckland\n",
      "2                      Buller\n",
      "3                   Carterton\n",
      "4         Central Hawke's Bay\n",
      "                ...          \n",
      "4549               Wellington\n",
      "4550    Western Bay of Plenty\n",
      "4551                 Westland\n",
      "4552                Whakatane\n",
      "4553                Whangarei\n",
      "Name: Territorial Authority, Length: 4554, dtype: object\n"
     ]
    }
   ],
   "source": [
    "cleaned_names = []\n",
    "for r in prepared_police_data['Territorial Authority']:\n",
    "    r=r.replace('District','')\n",
    "    r=r.replace('City','')\n",
    "    r=r.replace('\\\"','')\n",
    "    r=r.replace('.','')\n",
    "    r=r.strip()\n",
    "     \n",
    "    \n",
    "    cleaned_names.append(r)\n",
    "    \n",
    " \n",
    "prepared_police_data['Territorial Authority'] = cleaned_names\n",
    "print(prepared_police_data['Territorial Authority'])"
   ]
  },
  {
   "cell_type": "markdown",
   "metadata": {},
   "source": [
    "## Tweet Extraction and Preparation\n"
   ]
  },
  {
   "cell_type": "markdown",
   "metadata": {},
   "source": [
    "The tweets have been extracted using TweetScraper (https://github.com/jonbakerfish/TweetScraper). All the tweets from January 2018 till March 2020 sento to @nzpolice (https://twitter.com/nzpolice) Twitter handle have been scraped from Twitter website. A typical query for extracting tweets from Auckland: scrapy crawl TweetScraper -a \"query=@nzpolice near:Auckland NZ since:2014-07-01 until:2020-03-31\""
   ]
  },
  {
   "cell_type": "code",
   "execution_count": 50,
   "metadata": {},
   "outputs": [
    {
     "name": "stderr",
     "output_type": "stream",
     "text": [
      "C:\\Users\\deepa\\Anaconda3\\lib\\site-packages\\ipykernel_launcher.py:10: TqdmDeprecationWarning: This function will be removed in tqdm==5.0.0\n",
      "Please use `tqdm.notebook.tqdm` instead of `tqdm.tqdm_notebook`\n",
      "  # Remove the CWD from sys.path while we load stuff.\n"
     ]
    },
    {
     "data": {
      "application/vnd.jupyter.widget-view+json": {
       "model_id": "e6bd67376f0c42ffb1cfaaae4153849c",
       "version_major": 2,
       "version_minor": 0
      },
      "text/plain": [
       "HBox(children=(FloatProgress(value=0.0, max=88686.0), HTML(value='')))"
      ]
     },
     "metadata": {},
     "output_type": "display_data"
    },
    {
     "name": "stdout",
     "output_type": "stream",
     "text": [
      "\n"
     ]
    }
   ],
   "source": [
    "import json\n",
    "import os\n",
    "import pandas as pd\n",
    "from tqdm import tqdm_notebook\n",
    "\n",
    "path = '../data/tweets-all/' \n",
    "tweets = []\n",
    "dates = []\n",
    " \n",
    "for i,filename in enumerate(tqdm_notebook(os.listdir(path ))):\n",
    "           with open(os.path.join(path , filename), 'r', encoding=\"utf8\") as f:\n",
    "            content = json.loads(f.read())\n",
    "            dates.append(content[\"datetime\"])\n",
    "            tweets.append(content[\"text\"])\n",
    "\n",
    "            \n",
    "\n",
    "            \n",
    "            \n",
    "\n",
    "#tweet_data_csv_f=open(path+\"alltweets.csv\", \"a+\")\n",
    "    \n"
   ]
  },
  {
   "cell_type": "markdown",
   "metadata": {},
   "source": [
    "### Extracting sentiment from the tweets"
   ]
  },
  {
   "cell_type": "code",
   "execution_count": 52,
   "metadata": {},
   "outputs": [
    {
     "name": "stderr",
     "output_type": "stream",
     "text": [
      "C:\\Users\\deepa\\Anaconda3\\lib\\site-packages\\ipykernel_launcher.py:9: TqdmDeprecationWarning: This function will be removed in tqdm==5.0.0\n",
      "Please use `tqdm.notebook.tqdm` instead of `tqdm.tqdm_notebook`\n",
      "  if __name__ == '__main__':\n"
     ]
    },
    {
     "data": {
      "application/vnd.jupyter.widget-view+json": {
       "model_id": "e8f7aa88117b48e5b573a5a227d6d064",
       "version_major": 2,
       "version_minor": 0
      },
      "text/plain": [
       "HBox(children=(FloatProgress(value=0.0, max=88686.0), HTML(value='')))"
      ]
     },
     "metadata": {},
     "output_type": "display_data"
    },
    {
     "name": "stdout",
     "output_type": "stream",
     "text": [
      "\n"
     ]
    }
   ],
   "source": [
    "import re\n",
    "from vaderSentiment.vaderSentiment import SentimentIntensityAnalyzer\n",
    "from tqdm import tqdm_notebook\n",
    "analyser = SentimentIntensityAnalyzer()\n",
    "\n",
    "\n",
    "sentiment = []\n",
    "\n",
    "for i,tweet in enumerate(tqdm_notebook(tweets)):\n",
    "    string = tweet\n",
    "    string = re.sub(r'https?:\\S+', \"\", string) #Removes Hyperlink\n",
    "    string = re.sub('@[^\\s]+','',string) #Removes Usernames\n",
    "    string = re.sub('#[^\\s]+','',string) #Removes Hashtags\n",
    "    \n",
    "    score = analyser.polarity_scores(string)\n",
    "    score.pop('compound')\n",
    "    sentiment.append(max(score, key=score.get))\n",
    "\n",
    " "
   ]
  },
  {
   "cell_type": "markdown",
   "metadata": {},
   "source": [
    "### Converting DateTime to YearMonth and YearMonthDay"
   ]
  },
  {
   "cell_type": "code",
   "execution_count": 53,
   "metadata": {},
   "outputs": [],
   "source": [
    "import datetime\n",
    "yearmonth = []\n",
    "yearmonthday = []\n",
    "for dt in dates:\n",
    "    date_time_obj = datetime.datetime.strptime(dt, '%Y-%m-%d %H:%M:%S')\n",
    "    yearmonth.append(  str(date_time_obj.year) + '-' + str(date_time_obj.month))\n",
    "    yearmonthday.append(  str(date_time_obj.year) + '-' + str(date_time_obj.month) + '-' + str(date_time_obj.day) )"
   ]
  },
  {
   "cell_type": "markdown",
   "metadata": {},
   "source": [
    "### Creating Dataframe for determining aggregates"
   ]
  },
  {
   "cell_type": "code",
   "execution_count": 54,
   "metadata": {},
   "outputs": [
    {
     "name": "stdout",
     "output_type": "stream",
     "text": [
      "Sentiment       neg   neu  pos\n",
      "Year Month Day                \n",
      "2014-10-1       0.0  29.0  0.0\n",
      "2014-10-10      0.0  19.0  0.0\n",
      "2014-10-11      0.0  26.0  1.0\n",
      "2014-10-12      0.0   9.0  0.0\n",
      "2014-10-13      0.0  19.0  0.0\n",
      "...             ...   ...  ...\n",
      "2020-5-5        1.0  57.0  9.0\n",
      "2020-5-6        1.0  62.0  3.0\n",
      "2020-5-7        2.0  40.0  3.0\n",
      "2020-5-8        2.0  51.0  6.0\n",
      "2020-5-9        1.0  30.0  3.0\n",
      "\n",
      "[2148 rows x 3 columns]\n"
     ]
    }
   ],
   "source": [
    "tweet_sentiment_df =  pd.DataFrame(list(zip(yearmonth,yearmonthday,sentiment)), columns = ['Year Month','Year Month Day','Sentiment'])\n",
    "\n",
    " \n",
    "prepared_tweet_data_year_month_day = tweet_sentiment_df.groupby( 'Year Month Day' )['Sentiment'].value_counts().unstack().fillna(0)\n",
    "prepared_tweet_data_year_month = tweet_sentiment_df.groupby( 'Year Month' )['Sentiment'].value_counts().unstack().fillna(0)\n",
    "\n",
    "#display(prepared_tweet_data_year_month)\n",
    "print(prepared_tweet_data_year_month_day)\n",
    " \n",
    "#tweet_sentiment_df['Year Month'].unique()"
   ]
  },
  {
   "cell_type": "code",
   "execution_count": 56,
   "metadata": {},
   "outputs": [
    {
     "data": {
      "text/plain": [
       "2216"
      ]
     },
     "execution_count": 56,
     "metadata": {},
     "output_type": "execute_result"
    }
   ],
   "source": [
    "tweet_sentiment_df[tweet_sentiment_df['Sentiment'].isin(['neg'])]['Sentiment'].count()\n"
   ]
  },
  {
   "cell_type": "markdown",
   "metadata": {},
   "source": [
    "## Saving the files for use in Shiny/Leaflet"
   ]
  },
  {
   "cell_type": "code",
   "execution_count": 74,
   "metadata": {},
   "outputs": [
    {
     "ename": "NameError",
     "evalue": "name 'prepared_tweet_data_year_month_day' is not defined",
     "output_type": "error",
     "traceback": [
      "\u001b[1;31m---------------------------------------------------------------------------\u001b[0m",
      "\u001b[1;31mNameError\u001b[0m                                 Traceback (most recent call last)",
      "\u001b[1;32m<ipython-input-74-f3138cb7aa1b>\u001b[0m in \u001b[0;36m<module>\u001b[1;34m\u001b[0m\n\u001b[1;32m----> 1\u001b[1;33m \u001b[0mprepared_tweet_data_year_month_day\u001b[0m\u001b[1;33m.\u001b[0m\u001b[0mto_csv\u001b[0m\u001b[1;33m(\u001b[0m\u001b[1;34m'../data/tweet_sentiment_ymd.csv'\u001b[0m\u001b[1;33m,\u001b[0m \u001b[0mencoding\u001b[0m\u001b[1;33m=\u001b[0m\u001b[1;34m'utf-8'\u001b[0m\u001b[1;33m)\u001b[0m\u001b[1;33m\u001b[0m\u001b[1;33m\u001b[0m\u001b[0m\n\u001b[0m\u001b[0;32m      2\u001b[0m \u001b[0mprepared_tweet_data_year_month\u001b[0m\u001b[1;33m.\u001b[0m\u001b[0mto_csv\u001b[0m\u001b[1;33m(\u001b[0m\u001b[1;34m'../data/tweet_sentiment_ym.csv'\u001b[0m\u001b[1;33m,\u001b[0m \u001b[0mencoding\u001b[0m\u001b[1;33m=\u001b[0m\u001b[1;34m'utf-8'\u001b[0m\u001b[1;33m)\u001b[0m\u001b[1;33m\u001b[0m\u001b[1;33m\u001b[0m\u001b[0m\n\u001b[0;32m      3\u001b[0m \u001b[0mprepared_police_data\u001b[0m\u001b[1;33m.\u001b[0m\u001b[0mto_csv\u001b[0m\u001b[1;33m(\u001b[0m\u001b[1;34m'../data/police_filtered_data.csv'\u001b[0m\u001b[1;33m,\u001b[0m \u001b[0mencoding\u001b[0m\u001b[1;33m=\u001b[0m\u001b[1;34m'utf-8'\u001b[0m\u001b[1;33m)\u001b[0m\u001b[1;33m\u001b[0m\u001b[1;33m\u001b[0m\u001b[0m\n\u001b[0;32m      4\u001b[0m \u001b[1;33m\u001b[0m\u001b[0m\n",
      "\u001b[1;31mNameError\u001b[0m: name 'prepared_tweet_data_year_month_day' is not defined"
     ]
    }
   ],
   "source": [
    " \n",
    "\n",
    "prepared_tweet_data_year_month_day.to_csv('../data/tweet_sentiment_ymd.csv', encoding='utf-8')\n",
    "prepared_tweet_data_year_month.to_csv('../data/tweet_sentiment_ym.csv', encoding='utf-8')\n",
    "prepared_police_data.to_csv('../data/police_filtered_data.csv', encoding='utf-8')\n",
    "\n"
   ]
  },
  {
   "cell_type": "code",
   "execution_count": 73,
   "metadata": {},
   "outputs": [],
   "source": [
    "## writing grouped data for all cities\n",
    "## Initially only 20 cities were considered for analysis but later all the cities were considered\n",
    "region_crime_count.to_csv('../data/police_grouped_data.csv', encoding='utf-8')"
   ]
  },
  {
   "cell_type": "code",
   "execution_count": 78,
   "metadata": {},
   "outputs": [],
   "source": [
    "prepared_police_data.to_csv('../data/police_filtered_data.csv', encoding='utf-8')\n"
   ]
  },
  {
   "cell_type": "code",
   "execution_count": null,
   "metadata": {},
   "outputs": [],
   "source": []
  }
 ],
 "metadata": {
  "kernelspec": {
   "display_name": "Python 3",
   "language": "python",
   "name": "python3"
  },
  "language_info": {
   "codemirror_mode": {
    "name": "ipython",
    "version": 3
   },
   "file_extension": ".py",
   "mimetype": "text/x-python",
   "name": "python",
   "nbconvert_exporter": "python",
   "pygments_lexer": "ipython3",
   "version": "3.7.3"
  }
 },
 "nbformat": 4,
 "nbformat_minor": 2
}
